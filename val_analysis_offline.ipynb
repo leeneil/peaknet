{
 "cells": [
  {
   "cell_type": "code",
   "execution_count": 8,
   "metadata": {
    "collapsed": false
   },
   "outputs": [
    {
     "name": "stdout",
     "output_type": "stream",
     "text": [
      "The autoreload extension is already loaded. To reload it, use:\n",
      "  %reload_ext autoreload\n"
     ]
    }
   ],
   "source": [
    "%load_ext autoreload\n",
    "%autoreload 2\n",
    "\n",
    "from utils import *\n",
    "from compare import compare\n",
    "\n"
   ]
  },
  {
   "cell_type": "code",
   "execution_count": 12,
   "metadata": {
    "collapsed": false
   },
   "outputs": [
    {
     "name": "stdout",
     "output_type": "stream",
     "text": [
      "labels of 100 images loaded\n",
      "first data:\n",
      "[(153, 125), (79, 151), (100, 153), (273, 177), (262, 202), (204, 206), (313, 228), (273, 230), (66, 255), (178, 285), (143, 298), (39, 304), (305, 312), (32, 334), (61, 347), (80, 349), (605, 44), (441, 94), (448, 109), (445, 117), (429, 165), (426, 173), (538, 177), (519, 209), (674, 212), (426, 223), (668, 227), (599, 266), (596, 275), (453, 293), (801, 98), (791, 137), (1058, 153), (1047, 201), (1049, 228), (817, 234), (1157, 269), (907, 282), (810, 285), (1125, 318), (898, 329), (1051, 333), (802, 341), (1086, 365), (1214, 103), (1328, 144), (1184, 147), (1195, 161), (1373, 194), (1214, 204), (1413, 240), (1487, 283), (1193, 292), (1180, 301), (1238, 366)]\n"
     ]
    }
   ],
   "source": [
    "val_labels = loadLabels(\"data/val_labels/\", 100)\n",
    "print(\"labels of {} images loaded\".format(str(len(val_labels))))\n",
    "print('first data:')\n",
    "print(val_labels[0])"
   ]
  },
  {
   "cell_type": "code",
   "execution_count": 15,
   "metadata": {
    "collapsed": false
   },
   "outputs": [
    {
     "name": "stdout",
     "output_type": "stream",
     "text": [
      "******************************************\n",
      "*****       testing newpeaksv2\n",
      "******************************************\n",
      "data/val_results/newpeaksv2.json\n",
      "results of 1000 images loaded\n",
      "first data has 708 objects\n",
      "val sensitivity: 0.7374355670103093\n",
      "val precision: 0.5296159185562239\n",
      "val avg. IOU: 0.2642410474936736\n",
      "val avg. dist.: 2.1425188417999963\n",
      "******************************************\n",
      "*****       testing newpeaksv3\n",
      "******************************************\n",
      "data/val_results/newpeaksv3.json\n",
      "results of 1000 images loaded\n",
      "first data has 326 objects\n",
      "val sensitivity: 0.579735824742268\n",
      "val precision: 0.48276324614352784\n",
      "val avg. IOU: 0.23462614910151283\n",
      "val avg. dist.: 2.4428146638933295\n",
      "******************************************\n",
      "*****       testing newpeaksv4\n",
      "******************************************\n",
      "data/val_results/newpeaksv4.json\n",
      "results of 1000 images loaded\n",
      "first data has 133 objects\n",
      "val sensitivity: 0.3587306701030928\n",
      "val precision: 0.6559646539027982\n",
      "val avg. IOU: 0.20118057722395694\n",
      "val avg. dist.: 2.918896115911292\n",
      "******************************************\n",
      "*****       testing newpeaksv5\n",
      "******************************************\n",
      "data/val_results/newpeaksv5.json\n",
      "results of 1000 images loaded\n",
      "first data has 867 objects\n",
      "val sensitivity: 0.9426546391752577\n",
      "val precision: 0.4588724221751745\n",
      "val avg. IOU: 0.1566169668998457\n",
      "val avg. dist.: 3.6682624058723046\n",
      "******************************************\n",
      "*****       testing yolov3-peaks\n",
      "******************************************\n",
      "data/val_results/yolov3-peaks.json\n",
      "results of 1000 images loaded\n",
      "first data has 186 objects\n",
      "val sensitivity: 0.9413659793814433\n",
      "val precision: 0.6043433298862462\n",
      "val avg. IOU: 0.12456517312749553\n",
      "val avg. dist.: 4.364551808369557\n"
     ]
    }
   ],
   "source": [
    "resultPath = \"data/val_results/\"\n",
    "archs = [\"newpeaksv2\", \"newpeaksv3\",\"newpeaksv4\", \"newpeaksv5\", \"yolov3-peaks\"]\n",
    "\n",
    "for arch in archs:\n",
    "    print(\"******************************************\")\n",
    "    print(\"*****       testing \" + arch)\n",
    "    print(\"******************************************\")\n",
    "    val_results = loadResults(resultPath+arch+\".json\")\n",
    "    print(\"results of {} images loaded\".format(str(len(val_results))))\n",
    "    print('first data has {} objects'.format(str(len(val_results[0]))))\n",
    "    \n",
    "    val_comp_results, val_comp_stats = compare( val_labels, val_results, 0.1, False )\n",
    "    val_sen, val_pre, val_iou, val_dist = val_comp_stats\n",
    "    print('val sensitivity:', val_sen)\n",
    "    print('val precision:', val_pre)\n",
    "    print('val avg. IOU:', val_iou)\n",
    "    print('val avg. dist.:', val_dist)"
   ]
  },
  {
   "cell_type": "code",
   "execution_count": null,
   "metadata": {
    "collapsed": true
   },
   "outputs": [],
   "source": []
  },
  {
   "cell_type": "code",
   "execution_count": null,
   "metadata": {
    "collapsed": true
   },
   "outputs": [],
   "source": []
  }
 ],
 "metadata": {
  "anaconda-cloud": {},
  "kernelspec": {
   "display_name": "Python [conda env:cs231n]",
   "language": "python",
   "name": "conda-env-cs231n-py"
  },
  "language_info": {
   "codemirror_mode": {
    "name": "ipython",
    "version": 3
   },
   "file_extension": ".py",
   "mimetype": "text/x-python",
   "name": "python",
   "nbconvert_exporter": "python",
   "pygments_lexer": "ipython3",
   "version": "3.6.4"
  }
 },
 "nbformat": 4,
 "nbformat_minor": 1
}
